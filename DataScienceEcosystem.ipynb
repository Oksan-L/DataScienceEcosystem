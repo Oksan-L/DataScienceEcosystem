{
 "cells": [
  {
   "cell_type": "markdown",
   "id": "c5b82f06-fbeb-4d4b-88ee-94eaac7bddce",
   "metadata": {},
   "source": [
    "<h1>Data Science Tools and Ecosystem</h1>"
   ]
  },
  {
   "cell_type": "markdown",
   "id": "8207f8fd-a7fc-442b-b5c6-24aad830bb79",
   "metadata": {},
   "source": [
    "In this notebook, Data Science Tools and Ecosystem are summarized."
   ]
  },
  {
   "cell_type": "markdown",
   "id": "bf6089ed-1251-4621-a5c4-15346cc19482",
   "metadata": {},
   "source": [
    "<b>Objectives:</b>\n",
    "<ul>\n",
    "    <li>List popular languages for Data Science</li>\n",
    "    <li>Overview of Git/GitHub</li>\n",
    "    <li>List libraries for Data Science</li>\n",
    "</ul>"
   ]
  },
  {
   "cell_type": "markdown",
   "id": "5467a5c7-7ada-4756-8f6a-c09cd88bc68d",
   "metadata": {},
   "source": [
    "Some of the popular languages that Data Scientists use are:\n",
    "<ol>\n",
    "<li>Python</li>\n",
    "<li>R</li>\n",
    "<li>Java</li>\n",
    "<li>Scala</li>\n",
    "<li>C++</li>\n",
    "</ol>"
   ]
  },
  {
   "cell_type": "markdown",
   "id": "2d56fbee-fde1-49bd-b9c9-92c84947a854",
   "metadata": {},
   "source": [
    "Some of the commonly used libraries used by Data Scientists include:\n",
    "<ol>\n",
    "    <li>Pandas</li>\n",
    "    <li>NumPy</li>\n",
    "    <li>Matplotlib</li>\n",
    "    <li>Matplotlib</li>\n",
    "</ol>"
   ]
  },
  {
   "cell_type": "markdown",
   "id": "ffdc4fd2-b6d8-4b9b-b91a-cf8ed61e9d66",
   "metadata": {},
   "source": [
    "<table> \n",
    "    <tr><th>Data Science Tools</th></tr>\n",
    "    <tr><th>Jupyter Notebooks and JupyterLab</th></tr>\n",
    "    <tr><th>RStudio</th></tr>\n",
    "    <tr><th>Apache Zeppelin</th></tr>\n",
    "</table>"
   ]
  },
  {
   "cell_type": "markdown",
   "id": "4f2e1a18-6c3f-445e-bdf1-85f533e2ecc1",
   "metadata": {},
   "source": [
    "<h3>Below are a few examples of evaluating arithmetic expressions in Python</h3>"
   ]
  },
  {
   "cell_type": "code",
   "execution_count": 5,
   "id": "a13839bf-7f28-4d7b-9b6c-522840ca12ed",
   "metadata": {},
   "outputs": [
    {
     "data": {
      "text/plain": [
       "17"
      ]
     },
     "execution_count": 5,
     "metadata": {},
     "output_type": "execute_result"
    }
   ],
   "source": [
    "(3*4)+5\n",
    "#This a simple arithmetic expression to mutiply then add integers"
   ]
  },
  {
   "cell_type": "code",
   "execution_count": 9,
   "id": "fd586f3c-a46e-4759-b6ad-f062d04cfcc0",
   "metadata": {},
   "outputs": [
    {
     "name": "stdout",
     "output_type": "stream",
     "text": [
      "3 hours 20 minutes\n"
     ]
    }
   ],
   "source": [
    "#This will convert 200 minutes to hours by diving by 60\n",
    "minutes = 200\n",
    "print(f'{minutes // 60} hours {minutes % 60} minutes')"
   ]
  },
  {
   "cell_type": "markdown",
   "id": "2fd290d3-4f96-48f2-a3f8-c015dca94852",
   "metadata": {},
   "source": [
    "<h2>Author</h2>\n",
    "Oksana Luh"
   ]
  },
  {
   "cell_type": "code",
   "execution_count": null,
   "id": "7bba5fc0-bdda-45e1-953e-33268e4b189b",
   "metadata": {},
   "outputs": [],
   "source": []
  }
 ],
 "metadata": {
  "kernelspec": {
   "display_name": "Python 3 (ipykernel)",
   "language": "python",
   "name": "python3"
  },
  "language_info": {
   "codemirror_mode": {
    "name": "ipython",
    "version": 3
   },
   "file_extension": ".py",
   "mimetype": "text/x-python",
   "name": "python",
   "nbconvert_exporter": "python",
   "pygments_lexer": "ipython3",
   "version": "3.12.4"
  }
 },
 "nbformat": 4,
 "nbformat_minor": 5
}
